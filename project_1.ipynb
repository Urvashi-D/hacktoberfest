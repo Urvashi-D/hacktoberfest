{
  "nbformat": 4,
  "nbformat_minor": 0,
  "metadata": {
    "colab": {
      "provenance": [],
      "authorship_tag": "ABX9TyMntRC/DZg4ZV305jMFUNRO",
      "include_colab_link": true
    },
    "kernelspec": {
      "name": "python3",
      "display_name": "Python 3"
    },
    "language_info": {
      "name": "python"
    }
  },
  "cells": [
    {
      "cell_type": "markdown",
      "metadata": {
        "id": "view-in-github",
        "colab_type": "text"
      },
      "source": [
        "<a href=\"https://colab.research.google.com/github/Urvashi-D/hacktoberfest/blob/urvashi_project1/project_1.ipynb\" target=\"_parent\"><img src=\"https://colab.research.google.com/assets/colab-badge.svg\" alt=\"Open In Colab\"/></a>"
      ]
    },
    {
      "cell_type": "code",
      "source": [
        "# Install libraries for natural language processing\n",
        "!pip install spacy\n",
        "!python -m spacy download en_core_web_sm\n",
        "\n",
        "# Install SQLite for database querying (optional if you plan to test SQL queries)\n",
        "import sqlite3\n"
      ],
      "metadata": {
        "id": "ZKKCLl2mWwJz"
      },
      "execution_count": null,
      "outputs": []
    },
    {
      "cell_type": "code",
      "source": [
        "import spacy\n",
        "\n",
        "nlp = spacy.load('en_core_web_sm')\n",
        "def break_down_query(query_text):\n",
        "    parsed_query = nlp(query_text)\n",
        "    word_list = [word.text for word in parsed_query]\n",
        "    return word_list\n",
        "def create_sql_query(query_text):\n",
        "     if \"orders\" in query_text and \"completed\" in query_text and \"July\" in query_text:\n",
        "        return \"SELECT * FROM orders WHERE status = 'completed' AND month = 'July';\"\n",
        "     else:\n",
        "        return \"I don't understand the query.\"\n",
        "user_query = \"Get all completed orders in July\"\n",
        "parsed_words = break_down_query(user_query)\n",
        "sql_statement = create_sql_query(user_query)\n",
        "print(\"Words from query:\", parsed_words)\n",
        "print(\"Generated SQL:\", sql_statement)\n"
      ],
      "metadata": {
        "colab": {
          "base_uri": "https://localhost:8080/"
        },
        "id": "46oBxy9maB_7",
        "outputId": "e19d6291-f1ca-430e-89cb-f7fde8a4be45"
      },
      "execution_count": 13,
      "outputs": [
        {
          "output_type": "stream",
          "name": "stdout",
          "text": [
            "Words from query: ['Get', 'all', 'completed', 'orders', 'in', 'July']\n",
            "Generated SQL: SELECT * FROM orders WHERE status = 'completed' AND month = 'July';\n"
          ]
        }
      ]
    },
    {
      "cell_type": "code",
      "source": [
        "import spacy\n",
        "nlp = spacy.load('en_core_web_sm')\n",
        "tables = {\n",
        "    \"orders\": [\"order_id\", \"customer_id\", \"status\", \"month\", \"amount\"],\n",
        "    \"customers\": [\"customer_id\", \"name\", \"email\", \"city\"],\n",
        "}\n",
        "def break_down_query(query_text):\n",
        "    parsed_query = nlp(query_text)\n",
        "    word_list = [word.text for word in parsed_query]\n",
        "    return word_list\n",
        "def table_contains_column(table, column):\n",
        "    return column in tables[table]\n",
        "def create_sql_query(query_text):\n",
        "    tokens = break_down_query(query_text)\n",
        "    select_part = \"SELECT *\"\n",
        "    from_part = \"\"\n",
        "    where_part = \"\"\n",
        "    join_part = \"\"\n",
        "    if \"customer\" in tokens and \"order\" in tokens:\n",
        "        from_part = \" FROM orders\"\n",
        "        join_part = \" JOIN customers ON orders.customer_id = customers.customer_id\"\n",
        "        if \"city\" in tokens:\n",
        "            where_part = \" WHERE customers.city = 'Indore'\"\n",
        "    elif \"orders\" in tokens:\n",
        "        from_part = \" FROM orders\"\n",
        "        if \"completed\" in tokens and \"July\" in tokens:\n",
        "            where_part = \" WHERE status = 'completed' AND month = 'July'\"\n",
        "    if \"order by\" in query_text:\n",
        "        select_part += \" ORDER BY amount DESC\"\n",
        "    sql_query = select_part + from_part + join_part + where_part\n",
        "    return sql_query\n",
        "user_query = \"Get all customers who ordered from Indore in July\"\n",
        "parsed_words = break_down_query(user_query)\n",
        "sql_statement = create_sql_query(user_query)\n",
        "print(\"Words from query:\", parsed_words)\n",
        "print(\"Generated SQL:\", sql_statement)\n"
      ],
      "metadata": {
        "colab": {
          "base_uri": "https://localhost:8080/"
        },
        "id": "q711gY1ViVz1",
        "outputId": "5fe0fcd7-fce9-478e-bd54-05b67994d9a8"
      },
      "execution_count": 15,
      "outputs": [
        {
          "output_type": "stream",
          "name": "stdout",
          "text": [
            "Words from query: ['Get', 'all', 'customers', 'who', 'ordered', 'from', 'Indore', 'in', 'July']\n",
            "Generated SQL: SELECT *\n"
          ]
        }
      ]
    }
  ]
}