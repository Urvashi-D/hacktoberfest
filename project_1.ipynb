{
  "nbformat": 4,
  "nbformat_minor": 0,
  "metadata": {
    "colab": {
      "provenance": [],
      "authorship_tag": "ABX9TyPjrUAcp2TubRZ30cPkqJ1x",
      "include_colab_link": true
    },
    "kernelspec": {
      "name": "python3",
      "display_name": "Python 3"
    },
    "language_info": {
      "name": "python"
    }
  },
  "cells": [
    {
      "cell_type": "markdown",
      "metadata": {
        "id": "view-in-github",
        "colab_type": "text"
      },
      "source": [
        "<a href=\"https://colab.research.google.com/github/Urvashi-D/hacktoberfest/blob/urvashi_project1/project_1.ipynb\" target=\"_parent\"><img src=\"https://colab.research.google.com/assets/colab-badge.svg\" alt=\"Open In Colab\"/></a>"
      ]
    },
    {
      "cell_type": "code",
      "source": [
        "# Install libraries for natural language processing\n",
        "!pip install spacy\n",
        "!python -m spacy download en_core_web_sm\n",
        "\n",
        "# Install SQLite for database querying (optional if you plan to test SQL queries)\n",
        "import sqlite3\n"
      ],
      "metadata": {
        "id": "ZKKCLl2mWwJz"
      },
      "execution_count": null,
      "outputs": []
    },
    {
      "cell_type": "code",
      "source": [
        "import spacy\n",
        "\n",
        "nlp = spacy.load('en_core_web_sm')\n",
        "def break_down_query(query_text):\n",
        "    parsed_query = nlp(query_text)\n",
        "    word_list = [word.text for word in parsed_query]\n",
        "    return word_list\n",
        "def create_sql_query(query_text):\n",
        "     if \"orders\" in query_text and \"completed\" in query_text and \"July\" in query_text:\n",
        "        return \"SELECT * FROM orders WHERE status = 'completed' AND month = 'July';\"\n",
        "     else:\n",
        "        return \"I don't understand the query.\"\n",
        "user_query = \"Get all completed orders in July\"\n",
        "parsed_words = break_down_query(user_query)\n",
        "sql_statement = create_sql_query(user_query)\n",
        "print(\"Words from query:\", parsed_words)\n",
        "print(\"Generated SQL:\", sql_statement)\n"
      ],
      "metadata": {
        "colab": {
          "base_uri": "https://localhost:8080/"
        },
        "id": "46oBxy9maB_7",
        "outputId": "e19d6291-f1ca-430e-89cb-f7fde8a4be45"
      },
      "execution_count": 13,
      "outputs": [
        {
          "output_type": "stream",
          "name": "stdout",
          "text": [
            "Words from query: ['Get', 'all', 'completed', 'orders', 'in', 'July']\n",
            "Generated SQL: SELECT * FROM orders WHERE status = 'completed' AND month = 'July';\n"
          ]
        }
      ]
    },
    {
      "cell_type": "code",
      "source": [
        "import spacy\n",
        "nlp = spacy.load('en_core_web_sm')\n",
        "tables = {\n",
        "    \"orders\": [\"order_id\", \"customer_id\", \"status\", \"month\", \"amount\"],\n",
        "    \"customers\": [\"customer_id\", \"name\", \"email\", \"city\"],\n",
        "}\n",
        "def break_down_query(query_text):\n",
        "    parsed_query = nlp(query_text)\n",
        "    word_list = [word.text for word in parsed_query]\n",
        "    return word_list\n",
        "def table_contains_column(table, column):\n",
        "    return column in tables[table]\n",
        "def create_sql_query(query_text):\n",
        "    tokens = break_down_query(query_text)\n",
        "    select_part = \"SELECT *\"\n",
        "    from_part = \"\"\n",
        "    where_part = \"\"\n",
        "    join_part = \"\"\n",
        "    if \"customer\" in tokens and \"order\" in tokens:\n",
        "        from_part = \" FROM orders\"\n",
        "        join_part = \" JOIN customers ON orders.customer_id = customers.customer_id\"\n",
        "        if \"city\" in tokens:\n",
        "            where_part = \" WHERE customers.city = 'Indore'\"\n",
        "    elif \"orders\" in tokens:\n",
        "        from_part = \" FROM orders\"\n",
        "        if \"completed\" in tokens and \"July\" in tokens:\n",
        "            where_part = \" WHERE status = 'completed' AND month = 'July'\"\n",
        "    if \"order by\" in query_text:\n",
        "        select_part += \" ORDER BY amount DESC\"\n",
        "    sql_query = select_part + from_part + join_part + where_part\n",
        "    return sql_query\n",
        "user_query = \"Get all customers who ordered from Indore in July\"\n",
        "parsed_words = break_down_query(user_query)\n",
        "sql_statement = create_sql_query(user_query)\n",
        "print(\"Words from query:\", parsed_words)\n",
        "print(\"Generated SQL:\", sql_statement)\n"
      ],
      "metadata": {
        "colab": {
          "base_uri": "https://localhost:8080/"
        },
        "id": "q711gY1ViVz1",
        "outputId": "5fe0fcd7-fce9-478e-bd54-05b67994d9a8"
      },
      "execution_count": 15,
      "outputs": [
        {
          "output_type": "stream",
          "name": "stdout",
          "text": [
            "Words from query: ['Get', 'all', 'customers', 'who', 'ordered', 'from', 'Indore', 'in', 'July']\n",
            "Generated SQL: SELECT *\n"
          ]
        }
      ]
    },
    {
      "cell_type": "code",
      "source": [
        "pip install sqlalchemy sqlite"
      ],
      "metadata": {
        "id": "sGh11KeyCrG6"
      },
      "execution_count": null,
      "outputs": []
    },
    {
      "cell_type": "code",
      "source": [
        "from sqlalchemy import create_engine, Column, String, Float, Integer, DateTime, ForeignKey\n",
        "from sqlalchemy.ext.declarative import declarative_base\n",
        "from sqlalchemy.orm import sessionmaker, relationship\n",
        "import pandas as pd\n",
        "from datetime import datetime\n",
        "Base = declarative_base()\n",
        "DATABASE_URL = \"sqlite:///orders.db\"\n",
        "engine = create_engine(DATABASE_URL)\n",
        "class OrderHeader(Base):\n",
        "    __tablename__ = 'order_header'\n",
        "    orderId = Column(String, primary_key=True)\n",
        "    orderDate = Column(DateTime)\n",
        "    orderStatus = Column(String)\n",
        "    grandTotal = Column(Float)\n",
        "    items = relationship(\"OrderItem\", back_populates=\"order_header\")\n",
        "class OrderItem(Base):\n",
        "    __tablename__ = 'order_item'\n",
        "    orderItemSeqId = Column(String, primary_key=True)\n",
        "    orderId = Column(String, ForeignKey('order_header.orderId'))\n",
        "    productId = Column(String)\n",
        "    quantity = Column(Integer)\n",
        "    unitPrice = Column(Float)\n",
        "    order_header = relationship(\"OrderHeader\", back_populates=\"items\")\n",
        "Base.metadata.create_all(engine)\n",
        "Session = sessionmaker(bind=engine)\n",
        "session = Session()\n",
        "def add_order(order_info):\n",
        "    \"\"\"\n",
        "    Add a new order to the database.\n",
        "\n",
        "    Args:\n",
        "        order_info (dict): Information about the order and its items.\n",
        "    \"\"\"\n",
        "    try:\n",
        "        order_date = datetime.strptime(order_info[\"orderDate\"], \"%Y-%m-%d %H:%M:%S\")\n",
        "        new_order = OrderHeader(\n",
        "            orderId=order_info[\"orderId\"],\n",
        "            orderDate=order_date,\n",
        "            orderStatus=order_info[\"orderStatus\"],\n",
        "            grandTotal=order_info[\"grandTotal\"]\n",
        "        )\n",
        "        session.add(new_order)\n",
        "        for item in order_info[\"OrderItems\"]:\n",
        "            order_item = OrderItem(\n",
        "                orderItemSeqId=item[\"orderItemSeqId\"],\n",
        "                orderId=order_info[\"orderId\"],\n",
        "                productId=item[\"productId\"],\n",
        "                quantity=item[\"quantity\"],\n",
        "                unitPrice=item[\"unitPrice\"]\n",
        "            )\n",
        "            session.add(order_item)\n",
        "        session.commit()\n",
        "        print(\"Order has been added successfully!\")\n",
        "\n",
        "    except Exception as e:\n",
        "        print(f\"An error occurred while adding the order: {e}\")\n",
        "        session.rollback()  # Rollback the session on error\n",
        "sample_order = {\n",
        "    \"orderId\": \"10001\",\n",
        "    \"orderDate\": \"2020-05-28 08:50:43\",\n",
        "    \"orderStatus\": \"ORDER_CREATED\",\n",
        "    \"grandTotal\": 95.00,\n",
        "    \"OrderItems\": [\n",
        "        {\n",
        "            \"orderItemSeqId\": \"00001\",\n",
        "            \"productId\": \"P100\",\n",
        "            \"quantity\": 2,\n",
        "            \"unitPrice\": 20.00\n",
        "        },\n",
        "        {\n",
        "            \"orderItemSeqId\": \"00002\",\n",
        "            \"productId\": \"P200\",\n",
        "            \"quantity\": 1,\n",
        "            \"unitPrice\": 50.00\n",
        "        }\n",
        "    ]\n",
        "}\n",
        "add_order(sample_order)\n",
        "\n",
        "def prepare_data_for_ml():\n",
        "\n",
        "    orders = session.query(OrderHeader).all()\n",
        "    processed_data = []\n",
        "    for order in orders:\n",
        "        total_items_count = len(order.items)\n",
        "        total_quantity = sum(item.quantity for item in order.items)\n",
        "        total_amount = order.grandTotal\n",
        "\n",
        "        processed_data.append({\n",
        "            \"orderId\": order.orderId,\n",
        "            \"total_items\": total_items_count,\n",
        "            \"total_quantity\": total_quantity,\n",
        "            \"grand_total\": total_amount\n",
        "        })\n",
        "    return pd.DataFrame(processed_data)\n",
        "order_dataframe = prepare_data_for_ml()\n",
        "print(order_dataframe)\n",
        "session.close()\n"
      ],
      "metadata": {
        "id": "Qd86_cSLC_jN"
      },
      "execution_count": null,
      "outputs": []
    }
  ]
}